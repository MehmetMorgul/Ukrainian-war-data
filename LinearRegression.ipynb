{
 "cells": [
  {
   "cell_type": "code",
   "execution_count": 1,
   "id": "2aab3c39",
   "metadata": {},
   "outputs": [
    {
     "name": "stdout",
     "output_type": "stream",
     "text": [
      "    id  country  date  individuals  centroid_lon  centroid_lat    lat_max  \\\n",
      "0  291        3   125      5951510     19.401300      52.12240  55.469506   \n",
      "1  554        6   124      2490480     38.155608      51.48885  55.991456   \n",
      "2  179        1   125      1338276     19.413100      47.16720  54.167200   \n",
      "3  485        5   123      1169027     25.300000      45.86670  52.866700   \n",
      "4  658        7   125       757851     19.486400      48.70620  55.706200   \n",
      "\n",
      "     lon_max    lan_min    lon_min  source  \n",
      "0  26.401300  48.021549  12.401300       1  \n",
      "1  40.355733  51.727742  34.812904       1  \n",
      "2  26.588881  43.760061  12.413100       1  \n",
      "3  32.300000  38.866700  18.300000       1  \n",
      "4  26.486400  41.706200  12.486400       1  \n",
      "Missing values in each column:\n",
      " id              0\n",
      "country         0\n",
      "date            0\n",
      "individuals     0\n",
      "centroid_lon    0\n",
      "centroid_lat    0\n",
      "lat_max         0\n",
      "lon_max         0\n",
      "lan_min         0\n",
      "lon_min         0\n",
      "source          0\n",
      "dtype: int64\n",
      "R^2 Score: 0.8373246550365178\n"
     ]
    }
   ],
   "source": [
    "# Gerekli kütüphaneleri yükleme\n",
    "import pandas as pd\n",
    "from sklearn.model_selection import train_test_split\n",
    "from sklearn.linear_model import LinearRegression\n",
    "from sklearn.metrics import r2_score\n",
    "\n",
    "# Veri setini yükleme\n",
    "file_path = 'C:/Users/Mehmet Oruç Morgül/Downloads/UKR_refugee_cleaned.csv'\n",
    "data = pd.read_csv(file_path)\n",
    "\n",
    "# İlk birkaç satırı görüntüleme\n",
    "print(data.head())\n",
    "\n",
    "# Eksik değerleri kontrol etme\n",
    "missing_values = data.isnull().sum()\n",
    "print(\"Missing values in each column:\\n\", missing_values)\n",
    "\n",
    "# Özelliklerin ve hedef değişkenin belirlenmesi\n",
    "X = data[['country', 'date', 'centroid_lon', 'centroid_lat', 'lat_max', 'lon_max', 'lan_min', 'lon_min']]\n",
    "y = data['individuals']\n",
    "\n",
    "# Veriyi eğitim ve test setlerine ayırma\n",
    "X_train, X_test, y_train, y_test = train_test_split(X, y, test_size=0.2, random_state=42)\n",
    "\n",
    "# Doğrusal regresyon modeli oluşturma ve eğitme\n",
    "model = LinearRegression()\n",
    "model.fit(X_train, y_train)\n",
    "\n",
    "# Modelin test seti üzerinde tahmin yapması\n",
    "y_pred = model.predict(X_test)\n",
    "\n",
    "# Model performansını değerlendirme\n",
    "r2 = r2_score(y_test, y_pred)\n",
    "print(f\"R^2 Score: {r2}\")\n"
   ]
  },
  {
   "cell_type": "code",
   "execution_count": null,
   "id": "926e1883",
   "metadata": {},
   "outputs": [],
   "source": []
  }
 ],
 "metadata": {
  "kernelspec": {
   "display_name": "Python 3 (ipykernel)",
   "language": "python",
   "name": "python3"
  },
  "language_info": {
   "codemirror_mode": {
    "name": "ipython",
    "version": 3
   },
   "file_extension": ".py",
   "mimetype": "text/x-python",
   "name": "python",
   "nbconvert_exporter": "python",
   "pygments_lexer": "ipython3",
   "version": "3.11.7"
  }
 },
 "nbformat": 4,
 "nbformat_minor": 5
}
