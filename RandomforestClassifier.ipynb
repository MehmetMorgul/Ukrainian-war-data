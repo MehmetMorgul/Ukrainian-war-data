{
 "cells": [
  {
   "cell_type": "code",
   "execution_count": 6,
   "id": "05aefda7",
   "metadata": {},
   "outputs": [
    {
     "name": "stdout",
     "output_type": "stream",
     "text": [
      "RandomForestClassifier score: 0.5\n"
     ]
    }
   ],
   "source": [
    "import pandas as pd\n",
    "import numpy as np\n",
    "from sklearn.preprocessing import LabelEncoder, StandardScaler\n",
    "from sklearn.model_selection import train_test_split\n",
    "from sklearn.ensemble import RandomForestClassifier\n",
    "from sklearn.utils import resample\n",
    "\n",
    "# Veri setini yükleme\n",
    "file_path = 'C:/Users/Mehmet Oruç Morgül/Downloads/UKR_refugee_cleaned.csv'\n",
    "df_cleaned = pd.read_csv(file_path)\n",
    "\n",
    "# LabelEncoder kullanarak object sütunlarını sayısal hale getirme\n",
    "label_encoder = LabelEncoder()\n",
    "for column in ['id', 'country', 'date', 'source']:\n",
    "    df_cleaned[column] = label_encoder.fit_transform(df_cleaned[column])\n",
    "\n",
    "# Hedef değişkeni ve özellikleri ayırma\n",
    "X = df_cleaned.drop(\"individuals\", axis=1)\n",
    "y = df_cleaned[\"individuals\"]\n",
    "\n",
    "# Veri setini X ve y olarak birleştirme\n",
    "df = pd.concat([X, y], axis=1)\n",
    "\n",
    "# Çoğunluk ve azınlık sınıflarını ayırma\n",
    "majority_class = df[df['individuals'] == df['individuals'].mode()[0]]\n",
    "minority_classes = df[df['individuals'] != df['individuals'].mode()[0]]\n",
    "\n",
    "# Azınlık sınıflarını çoğaltma\n",
    "minority_upsampled = resample(minority_classes, \n",
    "                              replace=True,    # örneklerin yerine konarak seçilmesi\n",
    "                              n_samples=len(majority_class),  # çoğunluk sınıfı ile aynı sayıda örnek\n",
    "                              random_state=42) # rastgele tohum\n",
    "\n",
    "# Veri setini yeniden birleştirme\n",
    "df_balanced = pd.concat([majority_class, minority_upsampled])\n",
    "\n",
    "# Hedef değişkeni ve özellikleri ayırma\n",
    "X_balanced = df_balanced.drop(\"individuals\", axis=1)\n",
    "y_balanced = df_balanced[\"individuals\"]\n",
    "\n",
    "# Özellikleri standardize etme\n",
    "scaler = StandardScaler()\n",
    "X_scaled = scaler.fit_transform(X_balanced)\n",
    "\n",
    "# Veri setini eğitim ve test olarak ayırma\n",
    "X_train, X_test, y_train, y_test = train_test_split(X_scaled, y_balanced, test_size=0.3, random_state=42)\n",
    "\n",
    "# Modeli oluşturma ve eğitme\n",
    "clf = RandomForestClassifier(n_estimators=100, max_depth=10, random_state=42)\n",
    "clf.fit(X_train, y_train)\n",
    "\n",
    "# Test seti üzerinde modelin performansı\n",
    "test_score = clf.score(X_test, y_test)\n",
    "\n",
    "print(\"RandomForestClassifier score:\", test_score)\n"
   ]
  },
  {
   "cell_type": "code",
   "execution_count": null,
   "id": "33e1ea87",
   "metadata": {},
   "outputs": [],
   "source": []
  }
 ],
 "metadata": {
  "kernelspec": {
   "display_name": "Python 3 (ipykernel)",
   "language": "python",
   "name": "python3"
  },
  "language_info": {
   "codemirror_mode": {
    "name": "ipython",
    "version": 3
   },
   "file_extension": ".py",
   "mimetype": "text/x-python",
   "name": "python",
   "nbconvert_exporter": "python",
   "pygments_lexer": "ipython3",
   "version": "3.11.7"
  }
 },
 "nbformat": 4,
 "nbformat_minor": 5
}
